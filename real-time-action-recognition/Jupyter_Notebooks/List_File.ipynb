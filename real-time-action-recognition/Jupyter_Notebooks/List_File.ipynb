{
 "cells": [
  {
   "cell_type": "markdown",
   "metadata": {},
   "source": [
    "# Building the list_file for our Dataset.\n",
    "\n",
    "We have dataset such as UCF. It contains three splits (training on different training_set and test_set) then copmpute the average for better accuracy.\n",
    "Using these splits, we can access the dataset to build our list file which contains (directory of each video, number of frames and its label)\n",
    "\n",
    "First, we import some important libraries."
   ]
  },
  {
   "cell_type": "code",
   "execution_count": 1,
   "metadata": {},
   "outputs": [],
   "source": [
    "import os                         #library to interact with your OS whether it is Windows, Linux or MAC                       \n",
    "import glob                     #library used with os to access all the videos at the same time\n",
    "import random                #random number generator"
   ]
  },
  {
   "cell_type": "markdown",
   "metadata": {},
   "source": [
    "Now, we will define two functions: one for extracting name and label for each video and the other for extracting each video directory and number of frames."
   ]
  },
  {
   "cell_type": "code",
   "execution_count": 2,
   "metadata": {},
   "outputs": [],
   "source": [
    "def SplitsInfoExtract1(textfiles_dir):\n",
    "    \"\"\"\n",
    "    Extract name&label for each video \n",
    "    output: list of tuples (each tuple has trainlist and testlist) of list of tuple (each tuple has name of the video and its label)\n",
    "    Note: we have three splits for taining and testing\n",
    "    \"\"\"\n",
    "    actionLabel = [x.strip().split() for x in open(os.path.join(textfiles_dir,'classInd.txt'))]  #[[1,'label1'],.....]\n",
    "    actionLabel_dic = {x[1]:int(x[0])-1 for x in actionLabel}            #{'label1':0, 'label2':1 ,...}\n",
    "    \n",
    "    \n",
    "    \n",
    "    def ExtractInfo(line):\n",
    "        \"\"\"\n",
    "        Input: line form testlist or trainlist (eg : ApplyEyeMakeup/v_ApplyEyeMakeup_g08_c01.avi )\n",
    "        Output: the name and the label for this video\n",
    "        \"\"\"\n",
    "        line = line.split('/')\n",
    "        name = line[1].split('.')[0]\n",
    "        label = actionLabel_dic[line[0]]\n",
    "        return name,label\n",
    "    \n",
    "    Name_Label = []\n",
    "    \n",
    "    for i in range(1,4): #looping through the dataset splits to Extract information\n",
    "        trainlist = [ExtractInfo(x) for x in open (os.path.join(textfiles_dir,'trainlist{:02d}.txt'.format(i)))] #Extract info from every video in the trian splits\n",
    "        testlist  = [ExtractInfo(x) for x in open (os.path.join(textfiles_dir,'testlist{:02d}.txt'.format(i)))]  #Extract info from every video in the test splits\n",
    "        Name_Label.append((trainlist,testlist))\n",
    "\n",
    "    return Name_Label"
   ]
  },
  {
   "cell_type": "code",
   "execution_count": 3,
   "metadata": {},
   "outputs": [],
   "source": [
    "def SplitsInfoExtract2(dataset_dir):\n",
    "    '''\n",
    "    Input: dataset directory \n",
    "    Output:RGB_count ---> number of frames in each video stored in a dictionary\n",
    "                Video_dir ---> the directory of each video stored in a dictionary\n",
    "    '''\n",
    "    Framefiles_dir = glob.glob(os.path.join(dataset_dir,'*'))\n",
    "    \n",
    "    RGB_count = {}\n",
    "    Video_dir = {}\n",
    "    for file_dir in Framefiles_dir:\n",
    "        Video_name = file_dir.split('\\\\')[-1]\n",
    "        Frames_list = os.listdir(file_dir)\n",
    "        RGB_count[Video_name] = len(Frames_list)\n",
    "        Video_dir[Video_name] = file_dir\n",
    "        \n",
    "    return RGB_count, Video_dir"
   ]
  },
  {
   "cell_type": "markdown",
   "metadata": {},
   "source": [
    "We've built our two main functions for extracting information from each split. Now, we should merge them into one function that will be used to generate our list file."
   ]
  },
  {
   "cell_type": "code",
   "execution_count": 4,
   "metadata": {},
   "outputs": [],
   "source": [
    "def MergeInfo(Name_Label,Frames_dir, split_idx, shuffle=False):\n",
    "    '''\n",
    "    Inputs\n",
    "        Name_Label : The output of SpiltsInfoExtract1\n",
    "        Frames_dir : The output of SpiltsInfoExtract2\n",
    "        split_inx : 1 to 4 (split number)\n",
    "    Outputs:\n",
    "        Train_DFL : Huge string every line of it consist of [Dirctory of the video -- number of frames -- label]\n",
    "        Test_DFL  : Huge string every line of it consist of [Dirctory of the video -- number of frames -- label]\n",
    "    '''\n",
    "    Name_Label = Name_Label[split_idx-1]                               #Specify which split being processed (output: tuple(trainlist,testlist)\n",
    "    train_info =  Name_Label[0]                                        #List of tuples each tuple is (name,label)\n",
    "    test_info  =  Name_Label[1]                                        #List of tuples each tuple is (name,label)\n",
    "    \n",
    "    def DFL (Name_Label):                                                         #DFL : Directory , Frames , Label\n",
    "        RGB_list = []\n",
    "        for name_label in Name_Label:                                             #For each video in the split\n",
    "            Video_dir = Frames_dir[1][name_label[0]]\n",
    "            RGB_count = Frames_dir[0][name_label[0]]\n",
    "            Label     = name_label[1]\n",
    "            RGB_list.append('{} {} {}\\n'.format(Video_dir, RGB_count, Label))     #packing variables into string -huge one-\n",
    "\n",
    "            if shuffle:\n",
    "                random.shuffle(RGB_list)\n",
    "        return RGB_list\n",
    "    \n",
    "    Train_DFL = DFL(train_info)\n",
    "    Test_DFL  = DFL(test_info)\n",
    "    \n",
    "    return Train_DFL,Test_DFL"
   ]
  },
  {
   "cell_type": "markdown",
   "metadata": {},
   "source": [
    "Now let's build our list file function that will be used for different datasets to generate directory, number of frames and label for each video."
   ]
  },
  {
   "cell_type": "code",
   "execution_count": 5,
   "metadata": {},
   "outputs": [],
   "source": [
    "def Build_List_File(dataset_dir, out_dir, textfiles_dir, splits_num, shuffle=False):\n",
    "    \n",
    "    \"\"\"\n",
    "    Inputs:\n",
    "        frames_dir: directory for the frames to be processed (one video at a time)\n",
    "        out_dir: directory where the list_file will be generated\n",
    "        splits_num: number of dataset splits (we will go with 1 split for simplicity)\n",
    "        shuffle: True or False\n",
    "    \"\"\"\n",
    "    Name_Label = SplitsInfoExtract1(textfiles_dir)\n",
    "    Frames_dir = SplitsInfoExtract2(dataset_dir)\n",
    "    \n",
    "    for i in range(splits_num):\n",
    "        Train_DFL,Test_DFL = MergeInfo(Name_Label,Frames_dir, i+1, shuffle)\n",
    "        open(os.path.join(out_dir, 'rgb_train_FileList{}.txt'.format(i+1)), 'w').writelines(Train_DFL)\n",
    "        open(os.path.join(out_dir, 'rgb_test_FileList{}.txt'.format(i+1)), 'w').writelines(Test_DFL)"
   ]
  },
  {
   "cell_type": "markdown",
   "metadata": {},
   "source": [
    "Now, you can generate your own list file which you will find in the directory you will specifiy in out_dir parameter."
   ]
  },
  {
   "cell_type": "code",
   "execution_count": 6,
   "metadata": {},
   "outputs": [],
   "source": [
    "dataset_dir = r'C:\\Driver E\\Jimy\\Machine_Learning\\Graduation_Project\\UCF_Dataset\\jpegs_256'\n",
    "out_dir = r'C:\\Driver E\\Jimy\\Machine_Learning\\Graduation_Project\\UCF_Dataset'\n",
    "textfiles_dir = r'C:\\Driver E\\Jimy\\Machine_Learning\\Graduation_Project\\UCF_Dataset'\n",
    "Build_List_File(dataset_dir, out_dir, textfiles_dir, splits_num=1, shuffle=False)"
   ]
  },
  {
   "cell_type": "code",
   "execution_count": null,
   "metadata": {},
   "outputs": [],
   "source": []
  }
 ],
 "metadata": {
  "kernelspec": {
   "display_name": "Python 3",
   "language": "python",
   "name": "python3"
  },
  "language_info": {
   "codemirror_mode": {
    "name": "ipython",
    "version": 3
   },
   "file_extension": ".py",
   "mimetype": "text/x-python",
   "name": "python",
   "nbconvert_exporter": "python",
   "pygments_lexer": "ipython3",
   "version": "3.6.5"
  }
 },
 "nbformat": 4,
 "nbformat_minor": 2
}
