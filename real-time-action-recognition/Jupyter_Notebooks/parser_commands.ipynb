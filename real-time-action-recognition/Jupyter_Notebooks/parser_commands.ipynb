{
 "cells": [
  {
   "cell_type": "code",
   "execution_count": 1,
   "metadata": {},
   "outputs": [],
   "source": [
    "import argparse\n",
    "\n",
    "#first, create argparser object, then define your arguments\n",
    "parser = argparse.ArgumentParser(description='Implementation of Action Recognition Model using TSN architecture') \n",
    "\n",
    "#fill ArgumentParser with information by using add_argument method. This is used when parse_args() is called\n",
    "#The following arguments are positional. You have to specify them.\n",
    "parser.add_argument('dataset', type=str, choices=['ucf101'], help='the dataset to be processed')\n",
    "parser.add_argument('modality', type=str, choices=['RGB', 'RGBDiff'], help='the type of modality used')\n",
    "parser.add_argument('train_list', type=str, help='train list file')\n",
    "parser.add_argument('val_list', type=str, help='validation list file')  \n",
    "\n",
    "#Model Configurations. The following arguments are optional. e.g. you should type --arch \"your architecture\" in the command window\n",
    "parser.add_argument('--arch', type=str, default='resnet101', help='your CNN model of choice')\n",
    "parser.add_argument('--num_segments', type=int, default=3, choices=[1,3,5,7,9], help='number of segments for each video')\n",
    "parser.add_argument('--consensus_type', type=str, default='avg', choices=['avg', 'max', 'topk', 'identity'], help='type of aggregation function')\n",
    "parser.add_argument('--k', type=int, default=3, help='how many frames should be aggregated')\n",
    "parser.add_argument('--dropout', type=float, default=0.5, help='dropout applied to layers')\n",
    "parser.add_argument('--loss_type', type=str, default='nll', choices=['nll'])\n",
    "\n",
    "#Training Configurations.\n",
    "parser.add_argument('--epochs', default=45, type=int, help='number of total epochs to run')\n",
    "parser.add_argument('--batch_size', default=256, type=int, help='number of videos to be processed in each epoch')\n",
    "parser.add_argument('--learning_rate', default=0.001, type=float, help='initial learning rate')\n",
    "parser.add_argument('--lr_steps', default=[20, 40], type=float, help='number of epochs to decay learning rate by 10')\n",
    "parser.add_argument('--momentum', default=0.9, type=float, help='momentum used with SGD') \n",
    "parser.add_argument('--weight_decay', default=5e-4, type=float, help='weight decay')\n",
    "parser.add_argument('--clip_gradient', default=None, type=float, help='gradient norm clipping')                      # what is clip gradient?\n",
    "parser.add_argument('--no_partialBN', default=False, help='use batch normalization or no', action='store_true') \n",
    "\n",
    "#Print Configurations\n",
    "parser.add_argument('--print_freq', default=20, type=int, help='print information every N of epochs')\n",
    "parser.add_argument('--eval_freq', default=5, type=int, help='print evalutaion every N of epochs')\n",
    "\n",
    "#Run-time configurations\n",
    "parser.add_argument('num_workers', default=4, type=int, help='number of data loaders')\n",
    "parser.add_argument('--resume', default='', help='path to latest checkpoint')\n",
    "parser.add_argument('--evaluate', dest='evaluate', action='store_true', help='evaluate model on validation set')\n",
    "parser.add_argument('--snapshot_pref', type=str, default=\"\")                                                                                #what is snapshof_pref?\n",
    "parser.add_argument('--start_epoch', default=0, type=int, help='manual start of epochs. Helpful for restarts')\n",
    "parser.add_argument('--gpus', type=int, default=None)\n"
   ]
  }
 ],
 "metadata": {
  "kernelspec": {
   "display_name": "Python 3",
   "language": "python",
   "name": "python3"
  },
  "language_info": {
   "codemirror_mode": {
    "name": "ipython",
    "version": 3
   },
   "file_extension": ".py",
   "mimetype": "text/x-python",
   "name": "python",
   "nbconvert_exporter": "python",
   "pygments_lexer": "ipython3",
   "version": "3.6.5"
  }
 },
 "nbformat": 4,
 "nbformat_minor": 2
}
